{
 "cells": [
  {
   "cell_type": "markdown",
   "metadata": {},
   "source": [
    "# AMS 326 Numerical Analysis HW X Problem Set X\n",
    "\n",
    "By: Mehadi Chowdhury (115112722)\n",
    "\n",
    "Link to GitHub where README, PDF, IPYNB and Seperate Python Files will be hosted: INSERT GIT LINK\n",
    "\n",
    "## Background For Problems \n",
    "\n",
    "<div style=\"text-align: center;\">\n",
    "    <img src=\"Problem_1.1.png\" alt=\"Description\" style=\"width:500px; border:2px solid black;\"/>\n",
    "</div> \n",
    "\n",
    "^ Sample Image! "
   ]
  },
  {
   "cell_type": "markdown",
   "metadata": {},
   "source": [
    "## Problem X \n",
    "\n",
    "### Problem Description \n",
    "\n",
    "### Algorithm Description \n",
    "\n",
    "#### Psuedocode \n",
    "\n",
    "#### Code "
   ]
  },
  {
   "cell_type": "code",
   "execution_count": null,
   "metadata": {
    "vscode": {
     "languageId": "plaintext"
    }
   },
   "outputs": [],
   "source": []
  },
  {
   "cell_type": "markdown",
   "metadata": {},
   "source": [
    "### Results \n",
    "\n",
    "\n",
    "### Performance \n"
   ]
  }
 ],
 "metadata": {
  "language_info": {
   "name": "python"
  }
 },
 "nbformat": 4,
 "nbformat_minor": 2
}
