{
 "cells": [
  {
   "cell_type": "markdown",
   "metadata": {},
   "source": [
    "# AMS 326 Numerical Analysis HW 2\n",
    "\n",
    "By: Mehadi Chowdhury (115112722)\n",
    "\n",
    "Link to GitHub where README, PDF, IPYNB and Seperate Python Files will be hosted: INSERT GIT LINK\n",
    "\n",
    "## Background For Problem 2.1 \n",
    "\n",
    "<div style=\"text-align: center;\">\n",
    "    <img src=\"Problem_2.1_Background.png\" alt=\"Image of Problem 2.1 (Kidney Problem)\" style=\"width:1000px; border:2px solid black;\"/>\n",
    "</div> \n",
    "\n"
   ]
  },
  {
   "cell_type": "markdown",
   "metadata": {},
   "source": [
    "## Problem 2.1 - Task 1 \n",
    "\n",
    "### Problem Description  \n",
    "\n",
    "Given a kidney equation of $(x^2 + y^2)^2 = x^3 + y^3$ and digging a disc from the kidney with equation \n",
    "$(x-0.25)^2 + (y-0.25)^2 = 0.125$  \n",
    "Write a program to use the rectangle method to compute the area of the remaining kidney to 4 siginficant digits. \n",
    "\n",
    "### Algorithm Description \n",
    "\n",
    "#### Psuedocode \n",
    "\n",
    "#### Code "
   ]
  },
  {
   "cell_type": "code",
   "execution_count": null,
   "metadata": {},
   "outputs": [
    {
     "data": {
      "text/plain": [
       "\" \\nLet's do some simple thinking, we have a kidney and we have a disk! The kidney is not simple to solve the area for, but the disk is! \\nThe disk is really just a circle not centered at the origin and we can find the area of a circle easily with pi r^2. \\nWe are in luck, the r^2 is already calculated for us as it is 0.125, so the area of the circle is pi*0.125. \\n\\nWe now have to figure out the rectangle method and performing it on the kidney! \\n\\n\""
      ]
     },
     "execution_count": 1,
     "metadata": {},
     "output_type": "execute_result"
    }
   ],
   "source": [
    "\"\"\" \n",
    "Let's do some simple thinking, we have a kidney and we have a disk! The kidney is not simple to solve the area for, but the disk is! \n",
    "The disk is really just a circle not centered at the origin and we can find the area of a circle easily with pi r^2. \n",
    "We are in luck, the r^2 is already calculated for us as it is 0.125, so the area of the circle is pi*0.125. \n",
    "\n",
    "We now have to figure out the rectangle method and performing it on the kidney! \n",
    "\n",
    "Rectangle Method is either left or right, doesn't matter, we just get the area of the thing by solving for y and taking estimates.  \n",
    "The problem is how do we get Y here? We have (x^2 + y^2)^2 = x^3 + y^3.\n",
    "- Might need to either translate to polar or have python solve it! \n",
    "\"\"\" \n",
    "import numpy as np \n",
    "\n",
    "def disk_area(r_squared): \n",
    "    return r_squared * np.pi \n",
    "\n",
    "def rectangle_method(kidney_eq, intervals, dug_area): \n",
    "    NotImplemented \n",
    "\n",
    "dug_area = disk_area(0.125) \n",
    "\n",
    "ans = rectangle_method(None, None, dug_area)"
   ]
  }
 ],
 "metadata": {
  "kernelspec": {
   "display_name": ".venv",
   "language": "python",
   "name": "python3"
  },
  "language_info": {
   "codemirror_mode": {
    "name": "ipython",
    "version": 3
   },
   "file_extension": ".py",
   "mimetype": "text/x-python",
   "name": "python",
   "nbconvert_exporter": "python",
   "pygments_lexer": "ipython3",
   "version": "3.13.1"
  }
 },
 "nbformat": 4,
 "nbformat_minor": 2
}
