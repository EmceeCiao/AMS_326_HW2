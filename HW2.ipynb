{
 "cells": [
  {
   "cell_type": "markdown",
   "metadata": {},
   "source": [
    "# AMS 326 Numerical Analysis HW 2\n",
    "\n",
    "By: Mehadi Chowdhury (115112722)\n",
    "\n",
    "Link to GitHub where README, PDF, IPYNB and Seperate Python Files will be hosted: INSERT GIT LINK\n",
    "\n",
    "## Background For Problem 2.1 \n",
    "\n",
    "<div style=\"text-align: center;\">\n",
    "    <img src=\"Problem_2.1_Background.png\" alt=\"Image of Problem 2.1 (Kidney Problem)\" style=\"width:1000px; border:2px solid black;\"/>\n",
    "</div> \n",
    "\n"
   ]
  },
  {
   "cell_type": "markdown",
   "metadata": {},
   "source": [
    "## Problem 2.1 - Task 1 \n",
    "\n",
    "### Problem Description  \n",
    "\n",
    "Given a kidney equation of $(x^2 + y^2)^2 = x^3 + y^3$ and digging a disc from the kidney with equation \n",
    "$(x-0.25)^2 + (y-0.25)^2 = 0.125$  \n",
    "Write a program to use the rectangle method to compute the area of the remaining kidney to 4 siginficant digits. \n",
    "\n",
    "### Algorithm Description \n",
    "\n",
    "There are three rectangle methods that can be used, but the most accurate one is the midpoint method,   \n",
    "which is the one we will be using here! The midpoint method approximates the area underneath the curve      \n",
    "by having us evaluate the function value at the midpoint of every interval and take the sum.     \n",
    "The exact equation of the formula is as follows:    \n",
    "\n",
    "$\\int_{a}^{b} f(x)dx \\approx \\Delta x[f(x_1) + f(x_2) + ..... + f(x_n)]$   \n",
    "\n",
    "In this specific case however, we have to do a bit more thinking. Considering a disk is being cut out of the kidney   \n",
    "and that the disk is in the equation form of a circle, we can easily compute it's area as a constant and subtract   \n",
    "from the approximation we get using the rectangle method on the kidney.   \n",
    "\n",
    "To do this method on the kidney, we need a clear way to calculate a y-value, in this case this will require us to   \n",
    "convert the equation into polar like so: \n",
    "\n",
    "$(x^2 + y^2)^2 = x^3 + y^3 \\rightarrow r^4 = r^3(sin^3\\theta + cos^3\\theta) \\rightarrow r = sin^3\\theta + cos^3\\theta$ \n",
    "\n",
    "With this we can actually perform the rectangle method as we can treat r as our y-value and the bounds for theta or what\n",
    "is essentially x in this case is from 0 to 2 $\\pi$. This has to be slightly adapted though as we are now in the polar plane, \n",
    "each \"rectangle\" instead of being f(x) * $\\Delta x$ it's now $1/2 * r^2 * \\Delta r$ as it's a circular cut. \n",
    "\n",
    "This is derived from the fact that a normal circle is $\\pi r^2$ which when only taking a fraction of the circle\n",
    "we get $(\\theta /(2 \\pi)) *(\\pi r^2)$  \n",
    "Thus simplifying to what we had stated prior! \n",
    "\n",
    "Now that we have our formula, all that's left to decide is the number of intervals we want for our accuracy, in our case \n",
    "I believe 10,000 intervals will be enough to get me close to an approximation within 4 significant digits. \n",
    "\n",
    "#### Code "
   ]
  },
  {
   "cell_type": "code",
   "execution_count": 2,
   "metadata": {},
   "outputs": [
    {
     "name": "stdout",
     "output_type": "stream",
     "text": [
      "1.9634954084936207\n",
      "1.5707963267948966\n"
     ]
    }
   ],
   "source": [
    "\"\"\" \n",
    "Let's do some simple thinking, we have a kidney and we have a disk! The kidney is not simple to solve the area for, but the disk is! \n",
    "The disk is really just a circle not centered at the origin and we can find the area of a circle easily with pi r^2. \n",
    "We are in luck, the r^2 is already calculated for us as it is 0.125, so the area of the circle is pi*0.125. \n",
    "\n",
    "We now have to figure out the rectangle method and performing it on the kidney! \n",
    "\n",
    "Rectangle Method is either left or right or midpoint, we'll use midpoint for accuracy, we just get the area of the thing by solving for y and taking estimates.  \n",
    "The problem is how do we get Y here? We have (x^2 + y^2)^2 = x^3 + y^3.\n",
    "- Might need to either translate to polar or have python solve it!  \n",
    "    - Did in fact translate it to polar getting the equation r = cos^3t + sin^3t where t is theta! \n",
    "        - the bounds for this is just 0 to 2pi and we calculate r as we go!   \n",
    "    - We had to translate the Rectangle Method here to use \n",
    "\n",
    "\"\"\" \n",
    "import numpy as np \n",
    "\n",
    "def disk_area(r_squared): \n",
    "    return r_squared * np.pi \n",
    "\n",
    "def kidney_equation(x): \n",
    "    return np.cos(x) ** 3 + np.sin(x) ** 3 \n",
    "\n",
    "def rectangle_method_polar(kidney_eq, intervals, dug_area):    \n",
    "    interval_vals = np.linspace(0, 2*np.pi, intervals+1) \n",
    "    step = (2*np.pi)/intervals  \n",
    "    area = 0\n",
    "    for i in range(len(interval_vals)-1):    \n",
    "        # step is from midpoint method, kidney_eq(...) is midpoint method, 1/2 and the **2 is not midpoint method but from polar coordinates \n",
    "        # As a circle is pi_r^2, but in this case we want a partial area of the circle which would be the fraction of it, so it would be \n",
    "        # angle/2pi * r^2 = 1/2 r^2 angle \n",
    "        midpoint = (interval_vals[i] + interval_vals[i+1])/2\n",
    "        area += 0.5 * step * (kidney_eq(midpoint) ** 2)   \n",
    "    print(area) \n",
    "    print(area-dug_area)\n",
    "\n",
    "dug_area = disk_area(0.125) \n",
    "\n",
    "ans = rectangle_method_polar(kidney_equation, 10, dug_area)"
   ]
  },
  {
   "cell_type": "markdown",
   "metadata": {},
   "source": [
    "### Results \n",
    "\n",
    "\n",
    "### Performance \n"
   ]
  },
  {
   "cell_type": "markdown",
   "metadata": {},
   "source": [
    "## Problem 2.1 - Task 2\n",
    "\n",
    "### Problem Description  \n",
    "\n",
    "Given a kidney equation of $(x^2 + y^2)^2 = x^3 + y^3$ and digging a disc from the kidney with equation \n",
    "$(x-0.25)^2 + (y-0.25)^2 = 0.125$  \n",
    "Write a program to use the trapezoidal method to compute the area of the remaining kidney to 4 siginficant digits. \n",
    "\n",
    "### Algorithm Description \n",
    "\n",
    "#### Psuedocode \n",
    "\n",
    "#### Code "
   ]
  },
  {
   "cell_type": "code",
   "execution_count": 6,
   "metadata": {},
   "outputs": [
    {
     "name": "stdout",
     "output_type": "stream",
     "text": [
      "1.9634954084936156\n",
      "1.5707963267948915\n"
     ]
    }
   ],
   "source": [
    "\"\"\"\"\"\" \n",
    "\n",
    "import numpy as np \n",
    "\n",
    "def disk_area(r_squared): \n",
    "    return r_squared * np.pi \n",
    "\n",
    "def kidney_equation(x): \n",
    "    return np.cos(x) ** 3 + np.sin(x) ** 3  \n",
    "\n",
    "def trapezoidal_method_polar(kidney_eq, intervals, dug_area):    \n",
    "    interval_vals = np.linspace(0, 2*np.pi, intervals+1) \n",
    "    step = (2*np.pi)/intervals  \n",
    "    area = 0\n",
    "    for i in range(len(interval_vals)-1):    \n",
    "        # step is from midpoint method, kidney_eq(...) is midpoint method, 1/2 and the **2 is not midpoint method but from polar coordinates \n",
    "        # As a circle is pi_r^2, but in this case we want a partial area of the circle which would be the fraction of it, so it would be \n",
    "        # angle/2pi * r^2 = 1/2 r^2 angle \n",
    "        left_value = (kidney_eq(interval_vals[i])) ** 2\n",
    "        right_value = (kidney_eq(interval_vals[i+1])) **2\n",
    "        area += 0.5 * step * ((left_value + right_value)/2)\n",
    "    print(area) \n",
    "    print(area-dug_area)\n",
    "\n",
    "dug_area = disk_area(0.125) \n",
    "\n",
    "ans = trapezoidal_method_polar(kidney_equation, 100000, dug_area)\n"
   ]
  },
  {
   "cell_type": "markdown",
   "metadata": {},
   "source": [
    "### Results \n",
    "\n",
    "\n",
    "### Performance "
   ]
  }
 ],
 "metadata": {
  "kernelspec": {
   "display_name": ".venv",
   "language": "python",
   "name": "python3"
  },
  "language_info": {
   "codemirror_mode": {
    "name": "ipython",
    "version": 3
   },
   "file_extension": ".py",
   "mimetype": "text/x-python",
   "name": "python",
   "nbconvert_exporter": "python",
   "pygments_lexer": "ipython3",
   "version": "3.13.1"
  }
 },
 "nbformat": 4,
 "nbformat_minor": 2
}
