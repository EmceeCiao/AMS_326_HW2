{
 "cells": [
  {
   "cell_type": "markdown",
   "metadata": {},
   "source": [
    "# AMS 326 Numerical Analysis HW 2\n",
    "\n",
    "By: Mehadi Chowdhury (115112722)\n",
    "\n",
    "Link to GitHub where README, PDF, IPYNB and Seperate Python Files will be hosted: https://github.com/EmceeCiao/AMS_326_HW2 \n",
    "\n",
    "## Background For Problem 2.1 \n",
    "\n",
    "<div style=\"text-align: center;\">\n",
    "    <img src=\"Problem_2.1_Background.png\" alt=\"Image of Problem 2.1 (Kidney Problem)\" style=\"width:1000px; border:2px solid black;\"/>\n",
    "</div> \n",
    "\n"
   ]
  },
  {
   "cell_type": "markdown",
   "metadata": {},
   "source": [
    "## Problem 2.1 - Task 1 \n",
    "\n",
    "### Problem Description  \n",
    "\n",
    "Given a kidney equation of $(x^2 + y^2)^2 = x^3 + y^3$ and digging a disc from the kidney with equation \n",
    "$(x-0.25)^2 + (y-0.25)^2 = 0.125$  \n",
    "Write a program to use the rectangle method to compute the area of the remaining kidney to 4 siginficant digits. \n",
    "\n",
    "### Algorithm Description \n",
    "\n",
    "There are three rectangle methods that can be used, but the most accurate one is the midpoint method,   \n",
    "which is the one we will be using here! The midpoint method approximates the area underneath the curve      \n",
    "by having us evaluate the function value at the midpoint of every interval and take the sum.     \n",
    "The exact equation of the formula is as follows:    \n",
    "\n",
    "$\\int_{a}^{b} f(x)dx \\approx \\Delta x[f(x_1) + f(x_2) + ..... + f(x_n)]$   \n",
    "\n",
    "In this specific case however, we have to do a bit more thinking. Considering a disk is being cut out of the kidney   \n",
    "and that the disk is in the equation form of a circle, we can easily compute it's area as a constant and subtract   \n",
    "from the approximation we get using the rectangle method on the kidney.   \n",
    "\n",
    "To do this method on the kidney, we need a clear way to calculate a y-value, in this case this will require us to   \n",
    "convert the equation into polar like so: \n",
    "\n",
    "$(x^2 + y^2)^2 = x^3 + y^3 \\rightarrow r^4 = r^3(sin^3\\theta + cos^3\\theta) \\rightarrow r = sin^3\\theta + cos^3\\theta$ \n",
    "\n",
    "With this we can actually perform the rectangle method as we can treat r as our y-value and the bounds for theta or what\n",
    "is essentially x in this case is from 0 to 2 $\\pi$. This has to be slightly adapted though as we are now in the polar plane, \n",
    "each \"rectangle\" instead of being f(x) * $\\Delta x$ it's now $1/2 * r^2 * \\Delta \\theta$ as it's a circular cut. \n",
    "\n",
    "This is derived from the fact that a normal circle is $\\pi r^2$ which when only taking a fraction of the circle\n",
    "we get $(\\theta /(2 \\pi)) *(\\pi r^2)$  \n",
    "Thus simplifying to what we had stated prior! \n",
    "\n",
    "Now that we have our formula, all that's left to decide is the number of intervals we want for our accuracy, in our case \n",
    "I believe 10,000 intervals will be enough to get me close to an approximation within 4 significant digits. \n",
    "\n",
    "#### Code "
   ]
  },
  {
   "cell_type": "code",
   "execution_count": null,
   "metadata": {},
   "outputs": [
    {
     "name": "stdout",
     "output_type": "stream",
     "text": [
      "Approximated Area: 1.5707963267949003\n"
     ]
    }
   ],
   "source": [
    "import numpy as np \n",
    "\n",
    "def disk_area(r_squared):  \n",
    "    # We are given r^2 in the formuala for the disk so let the user pass it in \n",
    "    return r_squared * np.pi \n",
    "\n",
    "def kidney_equation(x):  \n",
    "    # Equation of Kidney after translating to Polar, x is the angle plugged in!\n",
    "    return np.cos(x) ** 3 + np.sin(x) ** 3 \n",
    "\n",
    "def rectangle_method_polar(kidney_eq, intervals, dug_area):      \n",
    "    \"\"\" \n",
    "    Function For Midpoint Method on Polar Equation with cut out area! \n",
    "\n",
    "    Input: \n",
    "    - kidney_eq: equation for the provided kidney (Could be generalized to function of curve) \n",
    "    - intervals: Whole number of intervals to be used in calculating \n",
    "    - dug_area: Area of disk that's been cut out of the kidney \n",
    "\n",
    "    Output: \n",
    "    - result: The approximation of the area under the curve after subtracting out the dug area \n",
    "              using rectangle method\n",
    "    \"\"\" \n",
    "    interval_vals = np.linspace(0, 2*np.pi, intervals+1) \n",
    "    step = (2*np.pi)/intervals  \n",
    "    area = 0\n",
    "    for i in range(len(interval_vals)-1):     \n",
    "        midpoint = (interval_vals[i] + interval_vals[i+1])/2\n",
    "        area += 0.5 * step * (kidney_eq(midpoint) ** 2)   \n",
    "    return area-dug_area\n",
    "\n",
    "dug_area = disk_area(0.125) \n",
    "\n",
    "ans = rectangle_method_polar(kidney_equation, 10000, dug_area) \n",
    "print(f\"Approximated Area: {ans}\") "
   ]
  },
  {
   "cell_type": "markdown",
   "metadata": {},
   "source": [
    "### Results \n",
    "\n",
    "The results of my program were the following: \n",
    "\n",
    "Area of Kidney with Cut Disk $\\approx$ 1.570796 \n",
    "\n",
    "### Performance \n",
    "\n",
    "In terms of the performance of this rectangular method polar, the time complexity would be O(n) where n   \n",
    "represents the number of intervals we decided to use as that's the number of operations performed.    \n",
    "The space complexity of the program is also O(n) as we have to store all of these intervals. However,  \n",
    "computationally, this is easier than computing the integral for the area and serves as a good estimate. \n"
   ]
  },
  {
   "cell_type": "markdown",
   "metadata": {},
   "source": [
    "## Problem 2.1 - Task 2\n",
    "\n",
    "### Problem Description  \n",
    "\n",
    "Given a kidney equation of $(x^2 + y^2)^2 = x^3 + y^3$ and digging a disc from the kidney with equation \n",
    "$(x-0.25)^2 + (y-0.25)^2 = 0.125$  \n",
    "Write a program to use the trapezoidal method to compute the area of the remaining kidney to 4 siginficant digits. \n",
    "\n",
    "### Algorithm Description \n",
    "\n",
    "The trapezoidal method approximates the area underneath the curve      \n",
    "by having us evaluate the function value at the left and right endpoints of every interval, divide it by 2 and multiply it by   \n",
    "the step as the formula for a trapezoid is $(a+b)/2 * h$. After summing all these values together we get the approximate area   \n",
    "under the curve.   \n",
    "\n",
    "The exact equation of the formula is as follows:    \n",
    "\n",
    "$\\int_{a}^{b} f(x)dx \\approx \\Delta x/2 [f(x_0) + 2f(x_2) + 2f(x_3) + ..... + f(x_n)]$   \n",
    "\n",
    "In this specific case however, we have to do a bit more thinking just like for task 1! We will have to cut out \n",
    "the constant area of the disk which can be calculated easily as it's in the form of a circle. \n",
    "\n",
    "Again to use the trapezoidal method on the kidney, we need a clear way to calculate a y-value, in this case this will require us to   \n",
    "convert the equation into polar like so: \n",
    "\n",
    "$(x^2 + y^2)^2 = x^3 + y^3 \\rightarrow r^4 = r^3(sin^3\\theta + cos^3\\theta) \\rightarrow r = sin^3\\theta + cos^3\\theta$ \n",
    "\n",
    "With this we can perform our trapezoidal method of integration, again with the caveat that we will have to do r^2   \n",
    "due to us working in polar coordinates and once again for accuracy I will be using 10,000 intervals.   \n",
    "\n",
    "#### Code "
   ]
  },
  {
   "cell_type": "code",
   "execution_count": 10,
   "metadata": {},
   "outputs": [
    {
     "name": "stdout",
     "output_type": "stream",
     "text": [
      "Approximated Area: 1.5707963267949026\n"
     ]
    }
   ],
   "source": [
    "import numpy as np \n",
    "\n",
    "def disk_area(r_squared):  \n",
    "    # We are given r^2 in the formuala for the disk so let the user pass it in \n",
    "    return r_squared * np.pi \n",
    "\n",
    "def kidney_equation(x):  \n",
    "    # Equation of Kidney after translating to Polar, x is the angle plugged in!\n",
    "    return np.cos(x) ** 3 + np.sin(x) ** 3 \n",
    "\n",
    "def trapezoidal_method_polar(kidney_eq, intervals, dug_area):  \n",
    "    \"\"\" \n",
    "    Function For Trapezoidal Method on Polar Equation with cut out area! \n",
    "\n",
    "    Input: \n",
    "    - kidney_eq: equation for the provided kidney (Could be generalized to function of curve) \n",
    "    - intervals: Whole number of intervals to be used in calculating \n",
    "    - dug_area: Area of disk that's been cut out of the kidney \n",
    "\n",
    "    Output: \n",
    "    - result: The approximation of the area under the curve after subtracting out the dug area \n",
    "              using trapezoidal method\n",
    "    \"\"\" \n",
    "    interval_vals = np.linspace(0, 2*np.pi, intervals+1) \n",
    "    step = (2*np.pi)/intervals  \n",
    "    area = 0\n",
    "    for i in range(len(interval_vals)-1):    \n",
    "        left_value = (kidney_eq(interval_vals[i])) ** 2\n",
    "        right_value = (kidney_eq(interval_vals[i+1])) **2\n",
    "        area += 0.5 * step * ((left_value + right_value)/2)\n",
    "    return area-dug_area\n",
    "\n",
    "dug_area = disk_area(0.125) \n",
    "\n",
    "ans = trapezoidal_method_polar(kidney_equation, 10000, dug_area) \n",
    "print(f\"Approximated Area: {ans}\") "
   ]
  },
  {
   "cell_type": "markdown",
   "metadata": {},
   "source": [
    "### Results \n",
    "\n",
    "The results of my program were the following: \n",
    "\n",
    "Area of Kidney with Cut Disk $\\approx$ 1.570796 \n",
    "\n",
    "### Performance \n",
    "\n",
    "In terms of the performance of this trapezoidal method, the time complexity would be O(n) where n   \n",
    "represents the number of intervals we decided to use as that's the number of computations performed.  \n",
    "The space complexity of the program is also O(n) as we have to store all of these intervals. There is     \n",
    "not much else to comment on this program's performance besides it being a good way to approximate the    \n",
    "area under a curve as computing integrals is computationally expensive. "
   ]
  },
  {
   "cell_type": "markdown",
   "metadata": {},
   "source": [
    "## Background For Problem 2.2 \n",
    "\n",
    "<div style=\"text-align: center;\">\n",
    "    <img src=\"Problem_2.2_Background.png\" alt=\"Description\" style=\"width:1000px; border:2px solid black;\"/>\n",
    "</div> \n",
    "\n"
   ]
  },
  {
   "cell_type": "markdown",
   "metadata": {},
   "source": [
    "## Problem 2.2\n",
    "\n",
    "### Problem Description \n",
    "\n",
    "Given some N x N matrix called A filled with uniformly distributed floating-point random numbers,   \n",
    "and a vector, b, of size n with 1 as all of it's elements, write a program to solve AX = b, if N = 66.   \n",
    "\n",
    "### Algorithm Description  \n",
    "\n",
    "\n",
    "#### Code "
   ]
  },
  {
   "cell_type": "code",
   "execution_count": null,
   "metadata": {},
   "outputs": [],
   "source": [
    "\"\"\" \n",
    "We have to somehow randomly create a matrix of uniformly distributed floating point values of size 63. \n",
    "Need to generate N by N values so 63 * 63 values of unifromly distributed floating point numbers \n",
    "Generating B of size N is not hard, it's just the matrix of 1's, transposed  \n",
    "\n",
    "How do we solve this numerically?  \n",
    "- Gaussian Elimination? \n",
    "\n",
    "\"\"\"\n",
    "\n",
    "import numpy as np \n"
   ]
  }
 ],
 "metadata": {
  "kernelspec": {
   "display_name": ".venv",
   "language": "python",
   "name": "python3"
  },
  "language_info": {
   "codemirror_mode": {
    "name": "ipython",
    "version": 3
   },
   "file_extension": ".py",
   "mimetype": "text/x-python",
   "name": "python",
   "nbconvert_exporter": "python",
   "pygments_lexer": "ipython3",
   "version": "3.13.1"
  }
 },
 "nbformat": 4,
 "nbformat_minor": 2
}
